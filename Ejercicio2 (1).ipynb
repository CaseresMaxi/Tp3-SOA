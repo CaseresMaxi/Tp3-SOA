{
  "nbformat": 4,
  "nbformat_minor": 0,
  "metadata": {
    "colab": {
      "name": "Ejercicio2.ipynb",
      "provenance": [],
      "collapsed_sections": []
    },
    "kernelspec": {
      "name": "python3",
      "display_name": "Python 3"
    },
    "language_info": {
      "name": "python"
    },
    "accelerator": "GPU"
  },
  "cells": [
    {
      "cell_type": "markdown",
      "metadata": {
        "id": "vnbIT4C1HHg4"
      },
      "source": [
        "#Introducción\n",
        "En este ejercicio se implento un algoritmo de busqueda utilizando el las capacidades que nos ofrece la programacion en pralelo para poder realizar las busquedas con un costo computacional constante.\n",
        "Adicioanlmente se impleneto un sencillo algoritmo de busqueda secuencial para ejemplificar las diferencias en tiempo de ejecucion que pueden darce ante grandes volumenes de datos."
      ]
    },
    {
      "cell_type": "markdown",
      "metadata": {
        "id": "Kp5Ss0DQGXUu"
      },
      "source": [
        "#Armado del ambiente"
      ]
    },
    {
      "cell_type": "code",
      "metadata": {
        "colab": {
          "base_uri": "https://localhost:8080/"
        },
        "id": "Lb2aXVM9Gep2",
        "outputId": "d2127e49-b921-48e6-fe03-e08a2aa710db"
      },
      "source": [
        "!pip install pycuda"
      ],
      "execution_count": 2,
      "outputs": [
        {
          "output_type": "stream",
          "text": [
            "Collecting pycuda\n",
            "\u001b[?25l  Downloading https://files.pythonhosted.org/packages/5a/56/4682a5118a234d15aa1c8768a528aac4858c7b04d2674e18d586d3dfda04/pycuda-2021.1.tar.gz (1.7MB)\n",
            "\u001b[K     |████████████████████████████████| 1.7MB 4.3MB/s \n",
            "\u001b[?25h  Installing build dependencies ... \u001b[?25l\u001b[?25hdone\n",
            "  Getting requirements to build wheel ... \u001b[?25l\u001b[?25hdone\n",
            "    Preparing wheel metadata ... \u001b[?25l\u001b[?25hdone\n",
            "Collecting mako\n",
            "\u001b[?25l  Downloading https://files.pythonhosted.org/packages/f3/54/dbc07fbb20865d3b78fdb7cf7fa713e2cba4f87f71100074ef2dc9f9d1f7/Mako-1.1.4-py2.py3-none-any.whl (75kB)\n",
            "\u001b[K     |████████████████████████████████| 81kB 10.2MB/s \n",
            "\u001b[?25hCollecting pytools>=2011.2\n",
            "\u001b[?25l  Downloading https://files.pythonhosted.org/packages/52/26/c7ab098ceb4e4e3f0e66e21257a286bb455ea22af7afefbd704d9ccf324c/pytools-2021.2.7.tar.gz (63kB)\n",
            "\u001b[K     |████████████████████████████████| 71kB 9.2MB/s \n",
            "\u001b[?25hRequirement already satisfied: appdirs>=1.4.0 in /usr/local/lib/python3.7/dist-packages (from pycuda) (1.4.4)\n",
            "Requirement already satisfied: MarkupSafe>=0.9.2 in /usr/local/lib/python3.7/dist-packages (from mako->pycuda) (2.0.1)\n",
            "Requirement already satisfied: numpy>=1.6.0 in /usr/local/lib/python3.7/dist-packages (from pytools>=2011.2->pycuda) (1.19.5)\n",
            "Building wheels for collected packages: pycuda\n",
            "  Building wheel for pycuda (PEP 517) ... \u001b[?25l\u001b[?25hdone\n",
            "  Created wheel for pycuda: filename=pycuda-2021.1-cp37-cp37m-linux_x86_64.whl size=627098 sha256=29193e4cf9a1b250e0d31d34c5fcafc66d744c63c09242f360562a28905c14f6\n",
            "  Stored in directory: /root/.cache/pip/wheels/d5/55/64/fd4dddcc5f1c25eebd90b5291c3769101dc978c70165685512\n",
            "Successfully built pycuda\n",
            "Building wheels for collected packages: pytools\n",
            "  Building wheel for pytools (setup.py) ... \u001b[?25l\u001b[?25hdone\n",
            "  Created wheel for pytools: filename=pytools-2021.2.7-py2.py3-none-any.whl size=60644 sha256=a5a68d1c5d5d38a21c02518624b0899643090df898e31505cd05bb48457a019e\n",
            "  Stored in directory: /root/.cache/pip/wheels/a0/b5/e5/e65d25997fd77729b9aa214645add18688483e48bbcbab6ffc\n",
            "Successfully built pytools\n",
            "Installing collected packages: mako, pytools, pycuda\n",
            "Successfully installed mako-1.1.4 pycuda-2021.1 pytools-2021.2.7\n"
          ],
          "name": "stdout"
        }
      ]
    },
    {
      "cell_type": "markdown",
      "metadata": {
        "id": "C_VWhmNjHCyf"
      },
      "source": [
        "#Desarrollo"
      ]
    },
    {
      "cell_type": "code",
      "metadata": {
        "colab": {
          "base_uri": "https://localhost:8080/"
        },
        "id": "5Jyd91wG7HVO",
        "outputId": "1dbce83a-d917-4479-9feb-7da12492b93c"
      },
      "source": [
        "# --------------------------------------------\n",
        "#@title 3.1 Parámetros de ejecución { vertical-output: true }\n",
        "\n",
        "cantidad_N =   100000000#@param {type: \"number\"}\n",
        "nro_a_buscar = 11#@param {type: \"number\"}\n",
        "\n",
        "\n",
        "if not isinstance(cantidad_N,int) or cantidad_N < 1:\n",
        "  raise TypeError(\"cantidad_N no es un número válido.\")\n",
        "\n",
        "if not isinstance(nro_a_buscar,int):\n",
        "  raise TypeError(\"nro_a_buscar no es un número válido.\")\n",
        "\n",
        "\n",
        "# --------------------------------------------\n",
        "\n",
        "from datetime import datetime\n",
        "\n",
        "tiempo_total = datetime.now()\n",
        "\n",
        "import pycuda.driver as cuda\n",
        "import pycuda.autoinit\n",
        "from pycuda.compiler import SourceModule\n",
        "\n",
        "import numpy\n",
        "\n",
        "# --------------------------------------------\n",
        "# Definición de función que transforma el tiempo en  milisegundos \n",
        "tiempo_en_ms = lambda dt:(dt.days * 24 * 60 * 60 + dt.seconds) * 1000 + dt.microseconds / 1000.0\n",
        "\n",
        "\n",
        "#Por la dificultad en encontrar un dataset con el bolumen de datos suficiente y la incapacidad de almacenarlo para\n",
        "#su uso estamos generando a modo de ejemplo un sensillo array con numeros aleatorios en los que buscar un elemento.\n",
        "\n",
        "aux= numpy.zeros((1,), dtype=int);\n",
        "aux=aux.astype(numpy.int32())\n",
        "x_cpu= numpy.random.randint(0, 1000, size = cantidad_N)\n",
        "\n",
        "x_cpu = x_cpu.astype(numpy.int32())\n",
        "\n",
        "#En CPU\n",
        "tiempo_cpu = datetime.now()\n",
        "\n",
        "valor_encontrado = False\n",
        "\n",
        "for numero in x_cpu:\n",
        "  if numero == nro_a_buscar:\n",
        "    valor_encontrado = True\n",
        "\n",
        "\n",
        "print( \"Cantidad de elementos: \", len(x_cpu) )\n",
        "print(\"Tiempo CPU: \", tiempo_en_ms( datetime.now() - tiempo_cpu   ), \"[ms]\" )\n",
        "\n",
        "if valor_encontrado:\n",
        "  print(\"Se encontró por CPU el valor:\",nro_a_buscar)\n",
        "else:\n",
        "  print(\"No se encontró por CPU el valor:\",nro_a_buscar)\n",
        "\n",
        "\n",
        "\n",
        "\n",
        "aux2= numpy.empty_like(aux)\n",
        "\n",
        "x_aux= cuda.mem_alloc(aux.nbytes)\n",
        "\n",
        "cuda.memcpy_htod(x_aux, aux)\n",
        "\n",
        "r_cpu = numpy.empty_like( x_cpu )\n",
        "\n",
        "x_gpu = cuda.mem_alloc( x_cpu.nbytes )\n",
        "\n",
        "cuda.memcpy_htod( x_gpu, x_cpu )\n",
        "\n",
        "# CPU - Defino la función kernel que ejecutará en GPU.\n",
        "module = SourceModule(\"\"\"\n",
        "__global__ void kernel_axpy( int n, int *X, int nro_a_buscar, int *res )\n",
        "{\n",
        "  int idx = threadIdx.x + blockIdx.x*blockDim.x;\n",
        "  if( idx < n )\n",
        "  {\n",
        "    if (X[idx] == nro_a_buscar) {\n",
        "     // X[0] = nro_a_buscar;\n",
        "     res[0]=1;\n",
        "    }\n",
        "  }\n",
        "}\n",
        "\"\"\")\n",
        "# CPU - Genero la función kernel.\n",
        "kernel = module.get_function(\"kernel_axpy\")\n",
        "\n",
        "tiempo_gpu = datetime.now()\n",
        "\n",
        "# GPU - Ejecuta el kernel.\n",
        "# TODO: Falta consultar limites del GPU, para armar las dimensiones correctamente.\n",
        "dim_hilo = 256\n",
        "dim_bloque = numpy.int( (len(x_cpu)+dim_hilo-1) / dim_hilo )\n",
        "print( \"-----------------------------------------------\")\n",
        "print( \"-----------------------------------------------\")\n",
        "print( \"Thread x: \", dim_hilo, \", Bloque x:\", dim_bloque )\n",
        "\n",
        "#TODO: Ojo, con los tipos de las variables en el kernel.\n",
        "kernel( numpy.int32(len(x_cpu)), x_gpu, numpy.int32(nro_a_buscar), x_aux,block=( dim_hilo, 1, 1 ),grid=(dim_bloque, 1,1) )\n",
        "\n",
        "tiempo_gpu = datetime.now() - tiempo_gpu\n",
        "\n",
        "\n",
        "# GPU - Copio el resultado desde la memoria GPU.\n",
        "\n",
        "\n",
        "tiempo_total = datetime.now() - tiempo_total\n",
        "cuda.memcpy_dtoh( r_cpu, x_gpu )\n",
        "result= r_cpu.tolist()\n",
        "cuda.memcpy_dtoh( aux2, x_aux )\n",
        "result_2= aux2.tolist()\n",
        "\n",
        "print( \"Cantidad de elementos: \", len(x_cpu) )\n",
        "print( \"Thread x: \", dim_hilo, \", Bloque x:\", dim_bloque )\n",
        "print(\"Tiempo GPU: \", tiempo_en_ms( tiempo_gpu   ), \"[ms]\" )\n",
        "\n",
        "if result_2[0] == 1:\n",
        "  print(\"Se encontró por GPU el valor:\",nro_a_buscar)\n",
        "else:\n",
        "  print(\"No se encontró por GPU el valor:\",nro_a_buscar)\n",
        "\n",
        "print( \"-----------------------------------------------\")\n",
        "print( \"-----------------------------------------------\")\n",
        "print(\"Tiempo TOTAL: \", tiempo_en_ms( tiempo_total ), \"[ms]\" )"
      ],
      "execution_count": 25,
      "outputs": [
        {
          "output_type": "stream",
          "text": [
            "Cantidad de elementos:  100000000\n",
            "Tiempo CPU:  165620.041 [ms]\n",
            "Se encontró por CPU el valor: 11\n",
            "-----------------------------------------------\n",
            "-----------------------------------------------\n",
            "Thread x:  256 , Bloque x: 390625\n",
            "Cantidad de elementos:  100000000\n",
            "Thread x:  256 , Bloque x: 390625\n",
            "Tiempo GPU:  0.749 [ms]\n",
            "Se encontró por GPU el valor: 11\n",
            "-----------------------------------------------\n",
            "-----------------------------------------------\n",
            "Tiempo TOTAL:  166493.404 [ms]\n"
          ],
          "name": "stdout"
        }
      ]
    },
    {
      "cell_type": "markdown",
      "metadata": {
        "id": "EwX3OxXxWcUr"
      },
      "source": [
        "#Metricas\n",
        "Al ejecutar el algorimo con 10 millones de elementos pordemos ver los siguientes resultados:\n",
        "##CPU: 16929.319 [ms]\n",
        "##GPU: 0.759 [ms]\n",
        "Al ejecutar el algorimo con 100 mil de elementos pordemos ver los siguientes resultados:\n",
        "##CPU:  170.655 [ms]\n",
        "##GPU: 0.628 [ms]\n",
        "Al ejecutar el algorimo con 1 de elementos pordemos ver los siguientes resultados:\n",
        "##CPU:  170.655 [ms]\n",
        "##GPU: 0.628 [ms]\n",
        "Al ejecutar el algorimo con 1 de elementos pordemos ver los siguientes resultados:\n",
        "##CPU:  1.177 [ms]\n",
        "##GPU: 0.698 [ms]"
      ]
    },
    {
      "cell_type": "markdown",
      "metadata": {
        "id": "wwLIbILjH10m"
      },
      "source": [
        "#Conclusión\n",
        "Comparando notamos que el algoritmo de busqueda secuencial por cpu cumple que su complejidad O(n) dando tiempo de ejecucion sumanente largo pasado cierto nuemro de elementos.\n",
        "por otro lado el algoritmo de busqueda acelerado por GPU, con su complejidad O(1) manteniendo tiempos de busqueda en torno a <1ms sin impostar la cantidad de lementos del array\n",
        "Si bien la implementacion es realizada es simple es muy falcil partir de ella para realizar un algoritmo mucho mas complejo que sea util para el analisis de datos en el mundo real"
      ]
    },
    {
      "cell_type": "markdown",
      "metadata": {
        "id": "K2CYiiHrHqS_"
      },
      "source": [
        "#Bibliografía\n",
        "https://github.com/wvaliente/SOA_HPC/blob/main/Ejercicios/Prueba%201%20-%20Vectores%20-%20GPU.ipynb"
      ]
    }
  ]
}